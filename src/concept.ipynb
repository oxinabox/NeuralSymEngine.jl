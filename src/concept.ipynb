{
 "cells": [
  {
   "cell_type": "code",
   "execution_count": 26,
   "metadata": {
    "collapsed": false
   },
   "outputs": [],
   "source": [
    "using SymEngine\n",
    "using Expr2LaTeX\n",
    "using MacroTools"
   ]
  },
  {
   "cell_type": "code",
   "execution_count": 2,
   "metadata": {
    "collapsed": false
   },
   "outputs": [
    {
     "data": {
      "text/plain": [
       "matrix_sym (generic function with 1 method)"
      ]
     },
     "execution_count": 2,
     "metadata": {},
     "output_type": "execute_result"
    }
   ],
   "source": [
    "matrix_sym(name, nrows, ncols) = [symbols(Symbol(name,:_,i,:_,j)) for i in 1:nrows, j in 1:ncols]"
   ]
  },
  {
   "cell_type": "code",
   "execution_count": 3,
   "metadata": {
    "collapsed": false
   },
   "outputs": [
    {
     "data": {
      "text/plain": [
       "juliaize"
      ]
     },
     "execution_count": 3,
     "metadata": {},
     "output_type": "execute_result"
    }
   ],
   "source": [
    "\"Converts a SymEngine expression into a julia one\"\n",
    "function juliaize(symexpr)\n",
    "    str = repr(symexpr)\n",
    "    str = replace(str, \"SymEngine.Basic\", \"\")\n",
    "    str = replace(str, r\"(.)_(\\d+)_(\\d+)\", s\"\\g<1>[\\g<2>, \\g<3>]\")\n",
    "    parse(str)\n",
    "end"
   ]
  },
  {
   "cell_type": "code",
   "execution_count": 31,
   "metadata": {
    "collapsed": false
   },
   "outputs": [
    {
     "data": {
      "text/plain": [
       "matmul (generic function with 2 methods)"
      ]
     },
     "execution_count": 31,
     "metadata": {},
     "output_type": "execute_result"
    }
   ],
   "source": [
    "function matmul_sym(X1,X2,Y1,Y2)\n",
    "    x = matrix_sym(:X, X1, X2)\n",
    "    y = matrix_sym(:Y, Y1, Y2)\n",
    "    x*y\n",
    "end\n",
    "matmul_sym(args...) = matmul_sym(Val.(args)...)\n",
    "\n",
    "matmul(x,y) = matmul(x,y,Val.(size(x))..., Val.(size(y))...)\n",
    "\n",
    "@generated function matmul(X, Y, ::Val{X1},::Val{X2}, ::Val{Y1}, ::Val{Y2}) where {X1,X2,Y1,Y2}\n",
    "    r = juliaize(matmul_sym(X1,X2,Y1,Y2))\n",
    "    quote\n",
    "        @inbounds ret = $(r)\n",
    "        ret\n",
    "    end |> macroexpand |> rmlines |> unblock    \n",
    "end"
   ]
  },
  {
   "cell_type": "code",
   "execution_count": 32,
   "metadata": {
    "collapsed": false
   },
   "outputs": [
    {
     "data": {
      "text/plain": [
       "CodeInfo(:(begin \n",
       "        nothing\n",
       "        r = (Main.juliaize)((Main.matmul_sym)($(Expr(:static_parameter, 1)), $(Expr(:static_parameter, 2)), $(Expr(:static_parameter, 3)), $(Expr(:static_parameter, 4)))) # line 12:\n",
       "        return (((Core._expr)(:block, $(Expr(:copyast, :($(QuoteNode(:( # In[31], line 13:)))))), (Core._expr)(:macrocall, Symbol(\"@inbounds\"), (Core._expr)(:(=), :ret, r)), $(Expr(:copyast, :($(QuoteNode(:( # In[31], line 14:)))))), :ret) |> Main.macroexpand) |> Main.rmlines) |> Main.unblock\n",
       "    end))"
      ]
     },
     "execution_count": 32,
     "metadata": {},
     "output_type": "execute_result"
    }
   ],
   "source": [
    "x=[4 1]'\n",
    "y = [1 5]\n",
    "@code_lowered matmul(x,y,Val.(size(x))..., Val.(size(y))...)"
   ]
  },
  {
   "cell_type": "code",
   "execution_count": 38,
   "metadata": {
    "collapsed": false
   },
   "outputs": [
    {
     "name": "stdout",
     "output_type": "stream",
     "text": [
      "  0.002504 seconds (36.10 k allocations: 953.656 KiB)\n"
     ]
    },
    {
     "data": {
      "text/plain": [
       "3×30 Array{Float64,2}:\n",
       "  95.9903   99.0419   93.2743  89.4836  …   99.076  102.706   96.3882\n",
       " 100.949   106.858   104.919   98.4202     105.524  107.544  104.892 \n",
       " 101.068   102.967    97.6117  92.5801      99.457  103.826   99.0382"
      ]
     },
     "execution_count": 38,
     "metadata": {},
     "output_type": "execute_result"
    }
   ],
   "source": [
    "@time matmul(rand(3,400),rand(400,30))"
   ]
  },
  {
   "cell_type": "code",
   "execution_count": 39,
   "metadata": {
    "collapsed": false
   },
   "outputs": [
    {
     "name": "stdout",
     "output_type": "stream",
     "text": [
      "  0.000034 seconds (7 allocations: 11.516 KiB)\n"
     ]
    },
    {
     "data": {
      "text/plain": [
       "3×30 Array{Float64,2}:\n",
       " 11.8048   11.9445  11.7501   10.4895   …  10.3672   11.1396   12.4505\n",
       " 11.298    11.6671  10.9381   10.1879       9.53003  10.9246   11.0608\n",
       "  9.38636  11.0255   9.54885   9.06496      9.05131   9.60012  11.2243"
      ]
     },
     "execution_count": 39,
     "metadata": {},
     "output_type": "execute_result"
    }
   ],
   "source": [
    "@time (rand(3,40)*rand(40,30))"
   ]
  },
  {
   "cell_type": "code",
   "execution_count": null,
   "metadata": {
    "collapsed": true
   },
   "outputs": [],
   "source": []
  }
 ],
 "metadata": {
  "kernelspec": {
   "display_name": "Julia 0.6.1",
   "language": "julia",
   "name": "julia-0.6"
  },
  "language_info": {
   "file_extension": ".jl",
   "mimetype": "application/julia",
   "name": "julia",
   "version": "0.6.1"
  }
 },
 "nbformat": 4,
 "nbformat_minor": 0
}
