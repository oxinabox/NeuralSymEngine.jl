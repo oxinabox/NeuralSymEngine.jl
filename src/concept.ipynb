{
 "cells": [
  {
   "cell_type": "code",
   "execution_count": 26,
   "metadata": {
    "collapsed": false
   },
   "outputs": [],
   "source": [
    "using SymEngine\n",
    "using Expr2LaTeX\n",
    "using MacroTools"
   ]
  },
  {
   "cell_type": "code",
   "execution_count": 2,
   "metadata": {
    "collapsed": false
   },
   "outputs": [
    {
     "data": {
      "text/plain": [
       "matrix_sym (generic function with 1 method)"
      ]
     },
     "execution_count": 2,
     "metadata": {},
     "output_type": "execute_result"
    }
   ],
   "source": [
    "matrix_sym(name, nrows, ncols) = [symbols(Symbol(name,:_,i,:_,j)) for i in 1:nrows, j in 1:ncols]"
   ]
  },
  {
   "cell_type": "code",
   "execution_count": 3,
   "metadata": {
    "collapsed": false
   },
   "outputs": [
    {
     "data": {
      "text/plain": [
       "juliaize"
      ]
     },
     "execution_count": 3,
     "metadata": {},
     "output_type": "execute_result"
    }
   ],
   "source": [
    "\"Converts a SymEngine expression into a julia one\"\n",
    "function juliaize(symexpr)\n",
    "    str = repr(symexpr)\n",
    "    str = replace(str, \"SymEngine.Basic\", \"\")\n",
    "    str = replace(str, r\"(.)_(\\d+)_(\\d+)\", s\"\\g<1>[\\g<2>, \\g<3>]\")\n",
    "    parse(str)\n",
    "end"
   ]
  },
  {
   "cell_type": "code",
   "execution_count": 102,
   "metadata": {
    "collapsed": false
   },
   "outputs": [
    {
     "data": {
      "text/plain": [
       ":($(Expr(:+, 1, 2, 34)))"
      ]
     },
     "execution_count": 102,
     "metadata": {},
     "output_type": "execute_result"
    }
   ],
   "source": [
    "Expr(:+,1,2,34) "
   ]
  },
  {
   "cell_type": "code",
   "execution_count": 143,
   "metadata": {
    "collapsed": false
   },
   "outputs": [
    {
     "data": {
      "text/plain": [
       "group_addition (generic function with 1 method)"
      ]
     },
     "execution_count": 143,
     "metadata": {},
     "output_type": "execute_result"
    }
   ],
   "source": [
    "rewrite(nonexpr, op, cutoff) = nonexpr\n",
    "function rewrite(expr::Expr, op, cutoff)\n",
    "    if expr.head==:call && expr.args[1]==op && length(expr.args)-1>cutoff\n",
    "        Expr(:call, op, \n",
    "        Expr(:call, op, expr.args[2:cutoff+1]...),\n",
    "        Expr(:call, op, expr.args[cutoff+1:end]...)\n",
    "        )\n",
    "    else\n",
    "        expr\n",
    "    end\n",
    "end\n",
    "\n",
    "rewrite_rule(op, cutoff) = expr -> rewrite(expr, op, cutoff)\n",
    "group_addition(expr) = MacroTools.prewalk(rewrite_rule(:+, 11), expr)"
   ]
  },
  {
   "cell_type": "code",
   "execution_count": 144,
   "metadata": {
    "collapsed": false
   },
   "outputs": [
    {
     "data": {
      "text/plain": [
       "matmul (generic function with 2 methods)"
      ]
     },
     "execution_count": 144,
     "metadata": {},
     "output_type": "execute_result"
    }
   ],
   "source": [
    "function matmul_sym(X1,X2,Y1,Y2)\n",
    "    x = matrix_sym(:X, X1, X2)\n",
    "    y = matrix_sym(:Y, Y1, Y2)\n",
    "    x*y\n",
    "end\n",
    "matmul_sym(args...) = matmul_sym(Val.(args)...)\n",
    "\n",
    "matmul(x,y) = matmul(x,y,Val.(size(x))..., Val.(size(y))...)\n",
    "\n",
    "@generated function matmul(X, Y, ::Val{X1},::Val{X2}, ::Val{Y1}, ::Val{Y2}) where {X1,X2,Y1,Y2}\n",
    "    r = juliaize(matmul_sym(X1,X2,Y1,Y2))\n",
    "    quote\n",
    "        @inbounds ret = $(r)\n",
    "        ret\n",
    "    end |> macroexpand |> rmlines |> unblock |> group_addition\n",
    "end"
   ]
  },
  {
   "cell_type": "code",
   "execution_count": 145,
   "metadata": {
    "collapsed": false
   },
   "outputs": [
    {
     "name": "stdout",
     "output_type": "stream",
     "text": [
      "  53.163 μs (1 allocation: 96 bytes)\n",
      "  2.254 μs (5 allocations: 320 bytes)\n"
     ]
    },
    {
     "data": {
      "text/plain": [
       "3×4 Array{Int8,2}:\n",
       "  71  -15  -44  -93\n",
       " 125    0   52   91\n",
       "   3  -87  -20  119"
      ]
     },
     "execution_count": 145,
     "metadata": {},
     "output_type": "execute_result"
    }
   ],
   "source": [
    "using BenchmarkTools\n",
    "a, b  = (rand(Int8, 3,100), rand(Int8, 100,4))\n",
    "@btime matmul($a, $b)\n",
    "@btime *(a,b)"
   ]
  },
  {
   "cell_type": "code",
   "execution_count": 146,
   "metadata": {
    "collapsed": false
   },
   "outputs": [
    {
     "ename": "LoadError",
     "evalue": "\u001b[91msyntax: extra token \"commit\" after end of expression\u001b[39m",
     "output_type": "error",
     "traceback": [
      "\u001b[91msyntax: extra token \"commit\" after end of expression\u001b[39m",
      "",
      "Stacktrace:",
      " [1] \u001b[1minclude_string\u001b[22m\u001b[22m\u001b[1m(\u001b[22m\u001b[22m::String, ::String\u001b[1m)\u001b[22m\u001b[22m at \u001b[1m./loading.jl:522\u001b[22m\u001b[22m"
     ]
    }
   ],
   "source": [
    ";git commit -m=\"\" -a\n",
    ";  git push"
   ]
  },
  {
   "cell_type": "code",
   "execution_count": null,
   "metadata": {
    "collapsed": true
   },
   "outputs": [],
   "source": []
  }
 ],
 "metadata": {
  "kernelspec": {
   "display_name": "Julia 0.6.1",
   "language": "julia",
   "name": "julia-0.6"
  },
  "language_info": {
   "file_extension": ".jl",
   "mimetype": "application/julia",
   "name": "julia",
   "version": "0.6.1"
  }
 },
 "nbformat": 4,
 "nbformat_minor": 0
}
